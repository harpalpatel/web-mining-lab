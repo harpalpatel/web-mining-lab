{
  "nbformat": 4,
  "nbformat_minor": 0,
  "metadata": {
    "colab": {
      "name": "webmining.ipynb",
      "provenance": [],
      "collapsed_sections": [],
      "authorship_tag": "ABX9TyNkG01EyWMAnGpx0lhiwfNu",
      "include_colab_link": true
    },
    "kernelspec": {
      "name": "python3",
      "display_name": "Python 3"
    },
    "language_info": {
      "name": "python"
    }
  },
  "cells": [
    {
      "cell_type": "markdown",
      "metadata": {
        "id": "view-in-github",
        "colab_type": "text"
      },
      "source": [
        "<a href=\"https://colab.research.google.com/github/harpalpatel/project1/blob/main/webmining.ipynb\" target=\"_parent\"><img src=\"https://colab.research.google.com/assets/colab-badge.svg\" alt=\"Open In Colab\"/></a>"
      ]
    },
    {
      "cell_type": "code",
      "execution_count": null,
      "metadata": {
        "id": "Xk7zocO4KFtk"
      },
      "outputs": [],
      "source": [
        "import nltk\n",
        "from nltk.corpus import wordnet\n",
        "from nltk.corpus import stopwords\n",
        "nltk.download('stopwords')\n",
        "nltk.download('punkt')\n",
        "from nltk.tokenize import word_tokenize\n",
        "sentance_data=\"What is Web Mining? Web Mining is the process of ‘’Data Mining” techniques, and extract information from Web documents and services. The main purpose of web mining is discovering useful information from the World-Wide Web and it’s usage patterns.\"\n",
        "nltk_tokens=nltk.word_tokenize(sentance_data)\n",
        "print(nltk_tokens)"
      ]
    },
    {
      "cell_type": "markdown",
      "source": [
        "HARPAL PATEL\n",
        "**19BCE0692**"
      ],
      "metadata": {
        "id": "PJEoB55cKa9h"
      }
    },
    {
      "cell_type": "code",
      "source": [
        "import nltk\n",
        "from nltk.corpus import wordnet\n",
        "from nltk.corpus import stopwords\n",
        "#nltk.download('stopwords')\n",
        "#nltk.download('punkt')\n",
        "from nltk.tokenize import sent_tokenize\n",
        "sentence_data=\"What is Web Mining? Web Mining is the process of ‘’Data Mining” techniques, and extract information from Web documents and services. The main purpose of web mining is discovering useful information from the World-Wide Web and it’s usage patterns.\"\n",
        "nltk_tokens_sent=nltk.sent_tokenize(sentence_data)\n",
        "print(nltk_tokens_sent)"
      ],
      "metadata": {
        "id": "2oYnbbmtKo-t"
      },
      "execution_count": null,
      "outputs": []
    },
    {
      "cell_type": "markdown",
      "source": [
        "HARPAL PATEL **19BCE0692**"
      ],
      "metadata": {
        "id": "qpPjYauIL-Sl"
      }
    },
    {
      "cell_type": "code",
      "source": [
        "import nltk\n",
        "from nltk.corpus import wordnet\n",
        "from nltk.corpus import stopwords\n",
        "sentence_data=\"What is Web Mining? Web Mining is the process of ‘’Data Mining” techniques, and extract information from Web documents and services. The main purpose of web mining is discovering useful information from the World-Wide Web and it’s usage patterns.\"\n",
        "\n",
        "all_stopwords = stopwords.words('english')\n",
        "text_tokens =word_tokenize(sentence_data)\n",
        "tokens_without_sw=[word for word in text_tokens if not word in all_stopwords]\n",
        "\n",
        "punctuations= '''‘ ’”!()-[]{};:'\"\\,<>./?@#$%^&*_~'''\n",
        "\n",
        "no_punct=\"\"\n",
        "for char in tokens_without_sw:\n",
        "    if char not in punctuations:\n",
        "        no_punct=no_punct+\" \"+char\n",
        "print(no_punct)"
      ],
      "metadata": {
        "id": "e77Ug2M-MDhj"
      },
      "execution_count": null,
      "outputs": []
    },
    {
      "cell_type": "markdown",
      "source": [
        "**LAB DA** **2**\n",
        "\n",
        "---\n",
        "**HARPAL PATEL 19BCE0692**\n",
        "\n",
        "23-02-2022\n",
        "\n",
        "\n",
        "QUESTION:\n",
        "1. Write a python program to scrape website to extract the following:\n"
      ],
      "metadata": {
        "id": "BSS-cfFj0o3-"
      }
    },
    {
      "cell_type": "markdown",
      "source": [
        "a) raw HTML content"
      ],
      "metadata": {
        "id": "2KT7HxR_1bzW"
      }
    },
    {
      "cell_type": "code",
      "source": [
        "import requests\n",
        "from bs4 import BeautifulSoup\n",
        "URL = \"https://www.instagram.com/\"\n",
        "req = requests.get(URL)\n",
        "soup = BeautifulSoup(req.content, 'html5lib')\n",
        "print(soup.prettify())"
      ],
      "metadata": {
        "id": "uE_Praik1f9a"
      },
      "execution_count": null,
      "outputs": []
    },
    {
      "cell_type": "markdown",
      "source": [
        "**HARPAL PATEL 19BCE0692**\n",
        "\n",
        "b) tags (title, p, a, div)"
      ],
      "metadata": {
        "id": "9SqZWWeT3QvP"
      }
    },
    {
      "cell_type": "code",
      "source": [
        "import requests \n",
        "from bs4 import BeautifulSoup\n",
        "URL=\"https://en.wikipedia.org/wiki/India\"\n",
        "r=requests.get(URL).text\n",
        "soup=BeautifulSoup(r,'html.parser')\n",
        "#print('for title:')\n",
        "#print(soup.find('title').text)\n",
        "text=soup.find_all('p')\n",
        "for text in texts:\n",
        "  print(text.get_text())"
      ],
      "metadata": {
        "id": "bf32vZ2n3g_O"
      },
      "execution_count": null,
      "outputs": []
    },
    {
      "cell_type": "markdown",
      "source": [
        "**HARPAL PATEL 19BCE0692**"
      ],
      "metadata": {
        "id": "uskbrRsI-PA2"
      }
    },
    {
      "cell_type": "code",
      "source": [
        "import requests \n",
        "from bs4 import BeautifulSoup\n",
        "URL=\"https://en.wikipedia.org/wiki/India\"\n",
        "r=requests.get(URL).text\n",
        "soup=BeautifulSoup(r,'html.parser')\n",
        "texts=soup.find_all('a')\n",
        "for text in texts:\n",
        "  print(text.get_text())"
      ],
      "metadata": {
        "id": "aQ3N1twn-GsK"
      },
      "execution_count": null,
      "outputs": []
    },
    {
      "cell_type": "markdown",
      "source": [
        "**HARPAL PATEL 19BCE0692**"
      ],
      "metadata": {
        "id": "0xH3atbp-woR"
      }
    },
    {
      "cell_type": "code",
      "source": [
        "import requests \n",
        "from bs4 import BeautifulSoup\n",
        "URL=\"https://en.wikipedia.org/wiki/India\"\n",
        "r=requests.get(URL).text\n",
        "soup=BeautifulSoup(r,'html.parser')\n",
        "texts=soup.find_all('div')\n",
        "for text in texts:\n",
        "  print(text.get_text())"
      ],
      "metadata": {
        "id": "t8pudvON-uEX"
      },
      "execution_count": null,
      "outputs": []
    },
    {
      "cell_type": "markdown",
      "source": [
        "**HARPAL PATEL 19BCE0692**\n",
        "\n",
        "c) all textual content."
      ],
      "metadata": {
        "id": "QgTls5_B_X_l"
      }
    },
    {
      "cell_type": "code",
      "source": [
        "import requests \n",
        "from bs4 import BeautifulSoup\n",
        "URL=\"https://en.wikipedia.org/wiki/India\"\n",
        "r=requests.get(URL).text\n",
        "soup=BeautifulSoup(r,'html.parser')\n",
        "texts=soup.find().text\n",
        "print(texts)"
      ],
      "metadata": {
        "id": "3p28IdtB_i4F"
      },
      "execution_count": null,
      "outputs": []
    }
  ]
}