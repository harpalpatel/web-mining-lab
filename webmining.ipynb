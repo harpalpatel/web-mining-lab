{
  "nbformat": 4,
  "nbformat_minor": 0,
  "metadata": {
    "colab": {
      "name": "webmining.ipynb",
      "provenance": [],
      "collapsed_sections": [],
      "authorship_tag": "ABX9TyPTfLI0Ky3wwi/fS/s4M9rm",
      "include_colab_link": true
    },
    "kernelspec": {
      "name": "python3",
      "display_name": "Python 3"
    },
    "language_info": {
      "name": "python"
    }
  },
  "cells": [
    {
      "cell_type": "markdown",
      "metadata": {
        "id": "view-in-github",
        "colab_type": "text"
      },
      "source": [
        "<a href=\"https://colab.research.google.com/github/harpalpatel/web-mining-lab/blob/main/webmining.ipynb\" target=\"_parent\"><img src=\"https://colab.research.google.com/assets/colab-badge.svg\" alt=\"Open In Colab\"/></a>"
      ]
    },
    {
      "cell_type": "code",
      "execution_count": null,
      "metadata": {
        "id": "Xk7zocO4KFtk"
      },
      "outputs": [],
      "source": [
        "import nltk\n",
        "from nltk.corpus import wordnet\n",
        "from nltk.corpus import stopwords\n",
        "nltk.download('stopwords')\n",
        "nltk.download('punkt')\n",
        "from nltk.tokenize import word_tokenize\n",
        "sentance_data=\"What is Web Mining? Web Mining is the process of ‘’Data Mining” techniques, and extract information from Web documents and services. The main purpose of web mining is discovering useful information from the World-Wide Web and it’s usage patterns.\"\n",
        "nltk_tokens=nltk.word_tokenize(sentance_data)\n",
        "print(nltk_tokens)"
      ]
    },
    {
      "cell_type": "markdown",
      "source": [
        "HARPAL PATEL\n",
        "**19BCE0692**"
      ],
      "metadata": {
        "id": "PJEoB55cKa9h"
      }
    },
    {
      "cell_type": "code",
      "source": [
        "import nltk\n",
        "from nltk.corpus import wordnet\n",
        "from nltk.corpus import stopwords\n",
        "#nltk.download('stopwords')\n",
        "#nltk.download('punkt')\n",
        "from nltk.tokenize import sent_tokenize\n",
        "sentence_data=\"What is Web Mining? Web Mining is the process of ‘’Data Mining” techniques, and extract information from Web documents and services. The main purpose of web mining is discovering useful information from the World-Wide Web and it’s usage patterns.\"\n",
        "nltk_tokens_sent=nltk.sent_tokenize(sentence_data)\n",
        "print(nltk_tokens_sent)"
      ],
      "metadata": {
        "id": "2oYnbbmtKo-t"
      },
      "execution_count": null,
      "outputs": []
    },
    {
      "cell_type": "markdown",
      "source": [
        "HARPAL PATEL **19BCE0692**"
      ],
      "metadata": {
        "id": "qpPjYauIL-Sl"
      }
    },
    {
      "cell_type": "code",
      "source": [
        "import nltk\n",
        "from nltk.corpus import wordnet\n",
        "from nltk.corpus import stopwords\n",
        "sentence_data=\"What is Web Mining? Web Mining is the process of ‘’Data Mining” techniques, and extract information from Web documents and services. The main purpose of web mining is discovering useful information from the World-Wide Web and it’s usage patterns.\"\n",
        "\n",
        "all_stopwords = stopwords.words('english')\n",
        "text_tokens =word_tokenize(sentence_data)\n",
        "tokens_without_sw=[word for word in text_tokens if not word in all_stopwords]\n",
        "\n",
        "punctuations= '''‘ ’”!()-[]{};:'\"\\,<>./?@#$%^&*_~'''\n",
        "\n",
        "no_punct=\"\"\n",
        "for char in tokens_without_sw:\n",
        "    if char not in punctuations:\n",
        "        no_punct=no_punct+\" \"+char\n",
        "print(no_punct)"
      ],
      "metadata": {
        "id": "e77Ug2M-MDhj"
      },
      "execution_count": null,
      "outputs": []
    },
    {
      "cell_type": "markdown",
      "source": [
        "**LAB DA** **2**\n",
        "\n",
        "---\n",
        "**HARPAL PATEL 19BCE0692**\n",
        "\n",
        "23-02-2022\n",
        "\n",
        "\n",
        "QUESTION:\n",
        "1. Write a python program to scrape website to extract the following:\n"
      ],
      "metadata": {
        "id": "BSS-cfFj0o3-"
      }
    },
    {
      "cell_type": "markdown",
      "source": [
        "a) raw HTML content"
      ],
      "metadata": {
        "id": "2KT7HxR_1bzW"
      }
    },
    {
      "cell_type": "code",
      "source": [
        "import requests\n",
        "from bs4 import BeautifulSoup\n",
        "URL = \"https://www.instagram.com/\"\n",
        "req = requests.get(URL)\n",
        "soup = BeautifulSoup(req.content, 'html5lib')\n",
        "print(soup.prettify())"
      ],
      "metadata": {
        "id": "uE_Praik1f9a"
      },
      "execution_count": null,
      "outputs": []
    },
    {
      "cell_type": "markdown",
      "source": [
        "**HARPAL PATEL 19BCE0692**\n",
        "\n",
        "b) tags (title, p, a, div)"
      ],
      "metadata": {
        "id": "9SqZWWeT3QvP"
      }
    },
    {
      "cell_type": "code",
      "source": [
        "import requests \n",
        "from bs4 import BeautifulSoup\n",
        "URL=\"https://en.wikipedia.org/wiki/India\"\n",
        "r=requests.get(URL).text\n",
        "soup=BeautifulSoup(r,'html.parser')\n",
        "#print('for title:')\n",
        "#print(soup.find('title').text)\n",
        "text=soup.find_all('p')\n",
        "for text in texts:\n",
        "  print(text.get_text())"
      ],
      "metadata": {
        "id": "bf32vZ2n3g_O"
      },
      "execution_count": null,
      "outputs": []
    },
    {
      "cell_type": "markdown",
      "source": [
        "**HARPAL PATEL 19BCE0692**"
      ],
      "metadata": {
        "id": "uskbrRsI-PA2"
      }
    },
    {
      "cell_type": "code",
      "source": [
        "import requests \n",
        "from bs4 import BeautifulSoup\n",
        "URL=\"https://en.wikipedia.org/wiki/India\"\n",
        "r=requests.get(URL).text\n",
        "soup=BeautifulSoup(r,'html.parser')\n",
        "texts=soup.find_all('a')\n",
        "for text in texts:\n",
        "  print(text.get_text())"
      ],
      "metadata": {
        "id": "aQ3N1twn-GsK"
      },
      "execution_count": null,
      "outputs": []
    },
    {
      "cell_type": "markdown",
      "source": [
        "**HARPAL PATEL 19BCE0692**"
      ],
      "metadata": {
        "id": "0xH3atbp-woR"
      }
    },
    {
      "cell_type": "code",
      "source": [
        "import requests \n",
        "from bs4 import BeautifulSoup\n",
        "URL=\"https://en.wikipedia.org/wiki/India\"\n",
        "r=requests.get(URL).text\n",
        "soup=BeautifulSoup(r,'html.parser')\n",
        "texts=soup.find_all('div')\n",
        "for text in texts:\n",
        "  print(text.get_text())"
      ],
      "metadata": {
        "id": "t8pudvON-uEX"
      },
      "execution_count": null,
      "outputs": []
    },
    {
      "cell_type": "markdown",
      "source": [
        "**HARPAL PATEL 19BCE0692**\n",
        "\n",
        "c) all textual content."
      ],
      "metadata": {
        "id": "QgTls5_B_X_l"
      }
    },
    {
      "cell_type": "code",
      "source": [
        "import requests \n",
        "from bs4 import BeautifulSoup\n",
        "URL=\"https://en.wikipedia.org/wiki/India\"\n",
        "r=requests.get(URL).text\n",
        "soup=BeautifulSoup(r,'html.parser')\n",
        "texts=soup.find().text\n",
        "print(texts)"
      ],
      "metadata": {
        "id": "3p28IdtB_i4F"
      },
      "execution_count": null,
      "outputs": []
    },
    {
      "cell_type": "markdown",
      "source": [
        "**DA 3**\n",
        "\n",
        "**HARPAL PATEL 19BCE0692**\n",
        "1. Create a Python programme that performs Elias Gamma Encoding and Decoding for even numbers \n",
        "ranging from 1 to 20"
      ],
      "metadata": {
        "id": "ag3OtDT3Sfne"
      }
    },
    {
      "cell_type": "code",
      "source": [
        "#python implementation of Elias Gamma Encoding\n",
        "import math\n",
        "from math import log\n",
        "\n",
        "unary= lambda n: n * '0' + '1'\n",
        "binary = lambda n, l = 1:(\"{0:0%db}\" % l).format(n)\n",
        "def Elias_Gamma_Encoding(n):\n",
        "    if(n==0):\n",
        "        return '0'\n",
        "    x = int(log(n, 2))\n",
        "    \n",
        "    u = x\n",
        "    b = n - 2 ** x\n",
        "    \n",
        "    return unary(u) + binary(b, x)\n",
        "#python implementation of Elias Gamma Decoding\n",
        "def Elias_Gamma_Decoding(x):\n",
        "    x = list(x)\n",
        "    K = 0\n",
        "    while True:\n",
        "        if not x[K] == '0':\n",
        "            break\n",
        "        K = K + 1\n",
        "    x = x[K:2*K+1]\n",
        "  \n",
        "    n = 0\n",
        "    x.reverse()\n",
        "    \n",
        "    for i in range(len(x)):\n",
        "        if x[i] == '1':\n",
        "            n = n+math.pow(2, i)\n",
        "    return int(n)\n",
        "\n",
        "print('HARPAL PATEL 19BCE0692')\n",
        "\n",
        "for i in range(1,11):\n",
        "  z1=i*2\n",
        "  y1=Elias_Gamma_Encoding(z1)\n",
        "  z2=str(z1)\n",
        "  y2=str(y1)\n",
        "  y3=Elias_Gamma_Decoding(y1)\n",
        "  y4=str(y3)\n",
        "\n",
        "  print('Elias-Gamma encoding value for integer '+ z2 + '= ' + y2)\n",
        "  print('Elias-Gamma Decoding value for '+ y2 + '= ' + y4+ '\\n')"
      ],
      "metadata": {
        "id": "Jsxk6i70S4mE",
        "outputId": "71b981ed-6b59-4b04-878f-16dd0a5c992e",
        "colab": {
          "base_uri": "https://localhost:8080/"
        }
      },
      "execution_count": null,
      "outputs": [
        {
          "output_type": "stream",
          "name": "stdout",
          "text": [
            "HARPAL PATEL 19BCE0692\n",
            "Elias-Gamma encoding value for integer 2= 010\n",
            "Elias-Gamma Decoding value for 010= 2\n",
            "\n",
            "Elias-Gamma encoding value for integer 4= 00100\n",
            "Elias-Gamma Decoding value for 00100= 4\n",
            "\n",
            "Elias-Gamma encoding value for integer 6= 00110\n",
            "Elias-Gamma Decoding value for 00110= 6\n",
            "\n",
            "Elias-Gamma encoding value for integer 8= 0001000\n",
            "Elias-Gamma Decoding value for 0001000= 8\n",
            "\n",
            "Elias-Gamma encoding value for integer 10= 0001010\n",
            "Elias-Gamma Decoding value for 0001010= 10\n",
            "\n",
            "Elias-Gamma encoding value for integer 12= 0001100\n",
            "Elias-Gamma Decoding value for 0001100= 12\n",
            "\n",
            "Elias-Gamma encoding value for integer 14= 0001110\n",
            "Elias-Gamma Decoding value for 0001110= 14\n",
            "\n",
            "Elias-Gamma encoding value for integer 16= 000010000\n",
            "Elias-Gamma Decoding value for 000010000= 16\n",
            "\n",
            "Elias-Gamma encoding value for integer 18= 000010010\n",
            "Elias-Gamma Decoding value for 000010010= 18\n",
            "\n",
            "Elias-Gamma encoding value for integer 20= 000010100\n",
            "Elias-Gamma Decoding value for 000010100= 20\n",
            "\n"
          ]
        }
      ]
    },
    {
      "cell_type": "code",
      "source": [
        "from math import log\n",
        "from math import floor\n",
        " \n",
        "def Binary_Representation_Without_MSB(x):\n",
        "    binary = \"{0:b}\".format(int(x))\n",
        "    binary_without_MSB = binary[1:]\n",
        "    return binary_without_MSB\n",
        " \n",
        "def EliasGammaEncode(k):\n",
        "    if (k == 0):\n",
        "        return '0'\n",
        "    N = 1 + floor(log(k, 2))\n",
        "    Unary = (N-1)*'0'+'1'\n",
        "    return Unary + Binary_Representation_Without_MSB(k)\n",
        " \n",
        "def EliasDeltaEncode(x):\n",
        "    Gamma = EliasGammaEncode(1 + floor(log(k, 2)))\n",
        "    binary_without_MSB = Binary_Representation_Without_MSB(k)\n",
        "    return Gamma+binary_without_MSB\n",
        " \n",
        "k =  35\n",
        "print(EliasDeltaEncode(k))"
      ],
      "metadata": {
        "colab": {
          "base_uri": "https://localhost:8080/"
        },
        "id": "KhtV9zrNNCza",
        "outputId": "a2bfcb47-785b-4e42-a9da-f684392039d0"
      },
      "execution_count": null,
      "outputs": [
        {
          "output_type": "stream",
          "name": "stdout",
          "text": [
            "0011000011\n"
          ]
        }
      ]
    },
    {
      "cell_type": "code",
      "source": [
        "# Python programming for Golomb Encoding\n",
        "import math\n",
        "N = 45\n",
        "M = 4\n",
        "\n",
        "# for finding the value of preceding number of zeros by dividing N by M\n",
        "q = N//M\n",
        "# for computing the remainder of N by M\n",
        "r = N % M\n",
        "\n",
        "# appending that many numbers of zeros in starting of the encoded code initially\n",
        "quo ='0'*q+'1'\n",
        "\n",
        "# for computing the value of b ie floor of log(M) base 2 which will be used for computing value of k\n",
        "b = math.floor(math.log2(M))\n",
        "k = 2**(b + 1)-M\n",
        "# upon comparing the value of remainder with the value of k if less we we convert remainder r to binary and add the value from # index 2 because at index 0, 1 \"0b\" is present\n",
        "if r < k:\n",
        "\trem = bin(r)[2:]\n",
        "\tl = len(rem)\n",
        "\t\n",
        "# upon the calculating value of rem if it is less than computed value of b we add b-1 number of zeros in preceding of the # remainder\n",
        "\tif l<b:\n",
        "\t\trem = '0'*(b-l)+rem\n",
        "else:\n",
        "# we convert remainder r to binary and add the value from index 2 because at index 0, 1 \"0b\" is present\n",
        "\trem = bin(r + k)[2:]\n",
        "\tl = len(rem)\n",
        "# upon calculating value of rem if it is less than computed value of b we add b-1 number of zeros in preceding of the # remainder\n",
        "\tif l<b + 1:\n",
        "\t\trem = '0'*(b + 1-l)+rem\n",
        "golomb_code = quo + rem\n",
        "print(\"The golomb code encoding for x = {} and b = {} is {}\".\n",
        "\tformat(N, M, golomb_code))\n"
      ],
      "metadata": {
        "colab": {
          "base_uri": "https://localhost:8080/"
        },
        "id": "ZpFNjOM9N0hf",
        "outputId": "d7fbfb53-cf9f-41cf-b834-7fcd79afb95f"
      },
      "execution_count": null,
      "outputs": [
        {
          "output_type": "stream",
          "name": "stdout",
          "text": [
            "The golomb code encoding for x = 45 and b = 4 is 00000000000101\n"
          ]
        }
      ]
    },
    {
      "cell_type": "code",
      "source": [
        "#Golomg Decoding\n",
        "import math\n",
        "def decode(x):\n",
        "  num=0;\n",
        "  for i in range(len(x)):\n",
        "    num+=(int(x[len(x)-1-i])*(math.pow(2,i)));\n",
        "  return num;\n",
        "\n",
        "x=str(input('enter code:'))\n",
        "x=list(x);\n",
        "b=int(input('enter value of b: '))\n",
        "i=math.floor(math.log(b,2))\n",
        "d=math.pow(2,i+1)-b\n",
        "\n",
        "p2=0;\n",
        "l=1;\n",
        "while(p2<len(x)):\n",
        "  t=0;\n",
        "  flag=0;\n",
        "  r=[];\n",
        "  k=i;\n",
        "  q=0;\n",
        "  for p in range(p2,len(x)):\n",
        "    if(x[p]=='0'and flag==0):\n",
        "      t+=1;\n",
        "      continue;\n",
        "    if(x[p]=='1'and flag==0):\n",
        "      q=t;\n",
        "      flag=1;\n",
        "      continue;\n",
        "    r.append(x[p]);\n",
        "    k-=1;\n",
        "    if(k==0):\n",
        "      rnum=decode(r);\n",
        "      rnum=rnum-d;\n",
        "      p2=p+1;\n",
        "      break;\n",
        "  ans=q*b+rnum;\n",
        "  print()\n",
        "  print('decoded value for Golomb code for b = ',b, 'is ', ans);\n",
        "  l=0;\n"
      ],
      "metadata": {
        "id": "c5xHnKGt0KpG",
        "outputId": "5feeca2f-109c-4978-f6c7-ded427f4057c",
        "colab": {
          "base_uri": "https://localhost:8080/"
        }
      },
      "execution_count": 8,
      "outputs": [
        {
          "output_type": "stream",
          "name": "stdout",
          "text": [
            "enter code:00101\n",
            "enter value of b: 4\n",
            "\n",
            "decoded value for Golomb code for b =  4 is  5.0\n"
          ]
        }
      ]
    }
  ]
}